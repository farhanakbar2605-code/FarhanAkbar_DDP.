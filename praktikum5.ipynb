{
  "nbformat": 4,
  "nbformat_minor": 0,
  "metadata": {
    "colab": {
      "provenance": [],
      "authorship_tag": "ABX9TyNdIGCyViTcYpIMd+VZQCib",
      "include_colab_link": true
    },
    "kernelspec": {
      "name": "python3",
      "display_name": "Python 3"
    },
    "language_info": {
      "name": "python"
    }
  },
  "cells": [
    {
      "cell_type": "markdown",
      "metadata": {
        "id": "view-in-github",
        "colab_type": "text"
      },
      "source": [
        "<a href=\"https://colab.research.google.com/github/farhanakbar2605-code/FarhanAkbar_DDP./blob/main/praktikum5.ipynb\" target=\"_parent\"><img src=\"https://colab.research.google.com/assets/colab-badge.svg\" alt=\"Open In Colab\"/></a>"
      ]
    },
    {
      "cell_type": "code",
      "execution_count": 8,
      "metadata": {
        "id": "w5LDt9V-2cg4",
        "colab": {
          "base_uri": "https://localhost:8080/"
        },
        "outputId": "89692121-618f-4a25-e5c3-621dc0354ab2"
      },
      "outputs": [
        {
          "output_type": "stream",
          "name": "stdout",
          "text": [
            "['vario click', 'motor', 150, 'hitam doff', 2]\n",
            "['vario click', 'motor', 150, 'hitam doff', 2, 5000, 'matic']\n",
            "['vario click', 'motor', 'honda', 150, 'hitam doff', 2, 5000, 'matic']\n"
          ]
        }
      ],
      "source": [
        "nama_kendaraan = \"vario click\"\n",
        "jenis_kendaraan = \"motor\"\n",
        "cc_kendaraan = 150\n",
        "warna_kendaraan = \"hitam doff\"\n",
        "roda_kendaraan = 2\n",
        "\n",
        "\n",
        "data_kendaraan = [nama_kendaraan, jenis_kendaraan, cc_kendaraan, warna_kendaraan, roda_kendaraan]\n",
        "\n",
        "print(data_kendaraan)\n",
        "\n",
        "harga_kendaraan = 5000\n",
        "tipe_kendaraan = \"matic\"\n",
        "\n",
        "data_kendaraan.append(harga_kendaraan)\n",
        "data_kendaraan.append(tipe_kendaraan)\n",
        "print(data_kendaraan)\n",
        "\n",
        "merk_kendaraan = \"honda\"\n",
        "data_kendaraan.insert(2, merk_kendaraan)\n",
        "print(data_kendaraan)"
      ]
    },
    {
      "cell_type": "code",
      "source": [
        "pilihan = input(\"\"\"\n",
        "silahkan pilih menu yang di inginkan\n",
        ">>>>>>>>>>>><<<<<<<<<<<<\n",
        "1. luas persegi\n",
        "2. luas lingkaran\n",
        "3. luas segitiga\n",
        ">>>>>>>>>>>><<<<<<<<<<<<\n",
        "kirimkan hanya angka saja,\n",
        "jawaban = \"\"\")\n",
        "\n",
        "print(type(pilihan))\n",
        "match pilihan:\n",
        "  case \"1\":\n",
        "    sisi = int(input(\"sisi = \"))\n",
        "    luas = sisi * sisi\n",
        "\n",
        "    print(f\"luas persegi dengan sisi {sisi} adalah {luas}\")\n",
        "    # luas persegi\n",
        "  case \"2\":\n",
        "    # luas lingkaran\n",
        "    # phi *jarijari**2\n",
        "    float(input(\"masukan jarijari lingkaran: \"))\n",
        "\n",
        "    print(\"luas lingkaran adalah:\",luas)\n",
        "  case \"3\":\n",
        "    # luas segitiga\n",
        "    # (alas * tinggi)/2\n",
        "    float(input(\"Masukkan alas segitiga: \"))\n",
        "    float(input(\"Masukkan tinggi segitiga: \"))\n",
        "\n",
        "    print(\"Luas segitiga adalah:\", luas)\n",
        "  case _:\n",
        "    print(\"ora paham\")"
      ],
      "metadata": {
        "colab": {
          "base_uri": "https://localhost:8080/"
        },
        "id": "0oG4AVH09QzE",
        "outputId": "62eaca2a-baaa-4569-bded-11135c1ef5ab"
      },
      "execution_count": 20,
      "outputs": [
        {
          "output_type": "stream",
          "name": "stdout",
          "text": [
            "\n",
            "silahkan pilih menu yang di inginkan\n",
            ">>>>>>>>>>>><<<<<<<<<<<<\n",
            "1. luas persegi\n",
            "2. luas lingkaran\n",
            "3. luas segitiga\n",
            ">>>>>>>>>>>><<<<<<<<<<<<\n",
            "kirimkan hanya angka saja,\n",
            "jawaban = 3\n",
            "<class 'str'>\n",
            "Masukkan alas segitiga: 7\n",
            "Masukkan tinggi segitiga: 12\n",
            "Luas segitiga adalah: 25\n"
          ]
        }
      ]
    }
  ]
}